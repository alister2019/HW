{
  "nbformat": 4,
  "nbformat_minor": 0,
  "metadata": {
    "colab": {
      "name": "HW_2.ipynb",
      "provenance": [],
      "collapsed_sections": []
    },
    "kernelspec": {
      "name": "python3",
      "display_name": "Python 3"
    }
  },
  "cells": [
    {
      "cell_type": "code",
      "metadata": {
        "id": "BE-2Cfuwsb9g",
        "colab_type": "code",
        "colab": {}
      },
      "source": [
        ""
      ],
      "execution_count": 0,
      "outputs": []
    },
    {
      "cell_type": "code",
      "metadata": {
        "colab_type": "code",
        "id": "whI95qL4st72",
        "colab": {}
      },
      "source": [
        "# задание 1\n",
        "a = float(input('по шкале от 0 до 10, напишите, насколько Вы устали: '))\n",
        "if a < 0.7:\n",
        "    print('Кажется, Вы совсем не устали')\n",
        "elif 0.7 <= a <= 6.8:\n",
        "    print('Вы средненько устали')\n",
        "elif 6.9 <= a <= 8.6:\n",
        "    print('Вы устали. Может, перекур или кофе взбодрят вас?')\n",
        "elif 8.7 <= a <= 10:\n",
        "    print('Вы так устали, что у меня нет слов')\n",
        "else:\n",
        "    print('У вас всё хорошо? Давайте ещё раз прочитаем задание')\n",
        "\n",
        "    "
      ],
      "execution_count": 0,
      "outputs": []
    },
    {
      "cell_type": "code",
      "metadata": {
        "id": "1UrRVr3sjyr_",
        "colab_type": "code",
        "colab": {
          "base_uri": "https://localhost:8080/",
          "height": 221
        },
        "outputId": "36991eb1-bc8b-4f18-9d6c-1ebbff9f5733"
      },
      "source": [
        "# задание 2\n",
        "b = 100\n",
        "while b >= 0:\n",
        "    print(b)\n",
        "    b = b - 10\n",
        "print('Приехали!')\n",
        "    "
      ],
      "execution_count": 14,
      "outputs": [
        {
          "output_type": "stream",
          "text": [
            "100\n",
            "90\n",
            "80\n",
            "70\n",
            "60\n",
            "50\n",
            "40\n",
            "30\n",
            "20\n",
            "10\n",
            "0\n",
            "Приехали!\n"
          ],
          "name": "stdout"
        }
      ]
    },
    {
      "cell_type": "code",
      "metadata": {
        "id": "6CACBEvZtOAh",
        "colab_type": "code",
        "colab": {
          "base_uri": "https://localhost:8080/",
          "height": 34
        },
        "outputId": "2aeda430-84b9-4699-b1f8-10d2f22f8a03"
      },
      "source": [
        "# задание 3\n",
        "import random\n",
        "excuses = [\"я устал\",\"я улетел к океану\",\"на улице холодно\",\"на улице жарко\", \n",
        "           \"я в отпуске\",\"у меня день рождения\",\"сегодня выходной\",\"мне надоело\",\n",
        "           \"я работаю из дома\",\"могу\",\"плохо себя чувствую\",\"не хочу\", \"у меня лапки\",\"я в отпуске!\",\n",
        "           \"на улице ураган\", \"отменили все электрички, а денег на такси нет\", \"ребенка не с кем оставить\", \"у меня свадьба\", \"у меня кризис самоопределения\"]\n",
        "reason = random.choice(excuses)           \n",
        "print('Сегодня я не иду на работу, потому что', reason)"
      ],
      "execution_count": 29,
      "outputs": [
        {
          "output_type": "stream",
          "text": [
            "Сегодня я не иду на работу, потому что ребенка не с кем оставить\n"
          ],
          "name": "stdout"
        }
      ]
    }
  ]
}
import random

cocktails = [["мартини","грейпфрутовый сок","жасмин","тоник","лосось"],
               ["клубника","какао","мята","марсала"],
               ["водка","томатный сок","лимонный сок","вустерширский соус","черный перец","сельдерей","лосось"],
               ["джин","вермут","ликер мараскино","апельсины","коктейльная вишня","лосось"],
               ["ром","авокадо","сахарный сироп","сливки","лимонный сок","лед"],
               ["красный вермут","тоник","апельсины","лосось"],
               ["только чай"]
        ]
# Задача про лосось

# Ваш код
for i in cocktails:
  if "лосось" in i:
    i.remove("лосось")
print("Сегодня в вашем коктейле будет:",
      ", ".join(random.choice(cocktails))+".")
