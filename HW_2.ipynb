{
  "nbformat": 4,
  "nbformat_minor": 0,
  "metadata": {
    "colab": {
      "name": "HW_2.ipynb",
      "provenance": [],
      "collapsed_sections": []
    },
    "kernelspec": {
      "name": "python3",
      "display_name": "Python 3"
    }
  },
  "cells": [
    {
      "cell_type": "code",
      "metadata": {
        "id": "BE-2Cfuwsb9g",
        "colab_type": "code",
        "colab": {}
      },
      "source": [
        ""
      ],
      "execution_count": 0,
      "outputs": []
    },
    {
      "cell_type": "code",
      "metadata": {
        "colab_type": "code",
        "id": "whI95qL4st72",
        "colab": {
          "base_uri": "https://localhost:8080/",
          "height": 51
        },
        "outputId": "39ea3294-6ff1-42da-9683-b29c536773f0"
      },
      "source": [
        "# задание 1\n",
        "a = float(input('по шкале от 0 до 10, напишите, насколько Вы устали: '))\n",
        "if a < 0.7:\n",
        "    print('Кажется, Вы совсем не устали')\n",
        "elif 0.7 <= a <= 6.8:\n",
        "    print('Вы средненько устали')\n",
        "elif 6.9 <= a <= 8.6:\n",
        "    print('Вы устали. Может, перекур или кофе взбодрят вас?')\n",
        "elif 8.7 <= a <= 10:\n",
        "    print('Вы так устали, что у меня нет слов')\n",
        "else:\n",
        "    print('У вас всё хорошо? Давайте ещё раз прочитаем задание')\n",
        "\n",
        "    "
      ],
      "execution_count": 6,
      "outputs": [
        {
          "output_type": "stream",
          "text": [
            "по шкале от 0 до 10, напишите, насколько Вы устали: 21\n",
            "У вас всё хорошо? Давайте ещё раз прочитаем задание\n"
          ],
          "name": "stdout"
        }
      ]
    },
    {
      "cell_type": "code",
      "metadata": {
        "id": "1UrRVr3sjyr_",
        "colab_type": "code",
        "outputId": "3b0675fe-5bc5-4836-98a4-1470b21d5b94",
        "colab": {
          "base_uri": "https://localhost:8080/",
          "height": 221
        }
      },
      "source": [
        "# задание 2\n",
        "b = 100\n",
        "while b >= 0:\n",
        "    print(b)\n",
        "    b = b - 10\n",
        "print('Приехали!')\n",
        "    "
      ],
      "execution_count": 4,
      "outputs": [
        {
          "output_type": "stream",
          "text": [
            "100\n",
            "90\n",
            "80\n",
            "70\n",
            "60\n",
            "50\n",
            "40\n",
            "30\n",
            "20\n",
            "10\n",
            "0\n",
            "Приехали!\n"
          ],
          "name": "stdout"
        }
      ]
    },
    {
      "cell_type": "code",
      "metadata": {
        "id": "6CACBEvZtOAh",
        "colab_type": "code",
        "outputId": "53f17f17-2461-4fd8-b601-f503d51e7f8d",
        "colab": {
          "base_uri": "https://localhost:8080/",
          "height": 34
        }
      },
      "source": [
        "# задание 3\n",
        "import random\n",
        "excuses = [\"я устал\",\"я улетел к океану\",\"на улице холодно\",\"на улице жарко\", \n",
        "           \"я в отпуске\",\"у меня день рождения\",\"сегодня выходной\",\"мне надоело\",\n",
        "           \"я работаю из дома\",\"могу\",\"плохо себя чувствую\",\"не хочу\", \"у меня лапки\",\"я в отпуске!\",\n",
        "           \"на улице ураган\", \"отменили все электрички, а денег на такси нет\", \"ребенка не с кем оставить\", \"у меня свадьба\", \"у меня кризис самоопределения\"]\n",
        "reason = random.choice(excuses)           \n",
        "print('Сегодня я не иду на работу, потому что', reason)"
      ],
      "execution_count": 3,
      "outputs": [
        {
          "output_type": "stream",
          "text": [
            "Сегодня я не иду на работу, потому что на улице холодно\n"
          ],
          "name": "stdout"
        }
      ]
    },
    {
      "cell_type": "code",
      "metadata": {
        "id": "vOzd1ofbmQAY",
        "colab_type": "code",
        "colab": {
          "base_uri": "https://localhost:8080/",
          "height": 136
        },
        "outputId": "35d05fa7-c868-4534-9caa-9e353eebed07"
      },
      "source": [
        "# Задача 1 определитель делимости числа на 5\n",
        "\n",
        "\n",
        "numbers = [2,6,7,45,1,89,678,35,25,56,78,69,5]\n",
        "for i in numbers:\n",
        "  if i==45:\n",
        "    continue\n",
        "  elif i%5==0:\n",
        "    print(i, 'делится на 5')\n",
        "    break\n",
        "  else:\n",
        "    print(i, 'не делится на 5, продолжим поиск')"
      ],
      "execution_count": 1,
      "outputs": [
        {
          "output_type": "stream",
          "text": [
            "2 не делится на 5, продолжим поиск\n",
            "6 не делится на 5, продолжим поиск\n",
            "7 не делится на 5, продолжим поиск\n",
            "1 не делится на 5, продолжим поиск\n",
            "89 не делится на 5, продолжим поиск\n",
            "678 не делится на 5, продолжим поиск\n",
            "35 делится на 5\n"
          ],
          "name": "stdout"
        }
      ]
    },
    {
      "cell_type": "code",
      "metadata": {
        "id": "Cc8w3cWflkWI",
        "colab_type": "code",
        "colab": {
          "base_uri": "https://localhost:8080/",
          "height": 34
        },
        "outputId": "341882a5-aa8d-4ac6-ce1c-0e58e362cbcf"
      },
      "source": [
        "# Задача про лосось \n",
        "\n",
        "import random\n",
        "\n",
        "cocktails = [[\"мартини\",\"грейпфрутовый сок\",\"жасмин\",\"тоник\",\"лосось\"],\n",
        "               [\"клубника\",\"какао\",\"мята\",\"марсала\"],\n",
        "               [\"водка\",\"томатный сок\",\"лимонный сок\",\"вустерширский соус\",\"черный перец\",\"сельдерей\",\"лосось\"],\n",
        "               [\"джин\",\"вермут\",\"ликер мараскино\",\"апельсины\",\"коктейльная вишня\",\"лосось\"],\n",
        "               [\"ром\",\"авокадо\",\"сахарный сироп\",\"сливки\",\"лимонный сок\",\"лед\"],\n",
        "               [\"красный вермут\",\"тоник\",\"апельсины\",\"лосось\"],\n",
        "               [\"только чай\"]\n",
        "        ]\n",
        "\n",
        "# Ваш код\n",
        "for i in cocktails:\n",
        "  if \"лосось\" in i:\n",
        "    i.remove(\"лосось\")\n",
        "print(\"Сегодня в вашем коктейле будет:\",\n",
        "      \", \".join(random.choice(cocktails))+\".\")"
      ],
      "execution_count": 2,
      "outputs": [
        {
          "output_type": "stream",
          "text": [
            "Сегодня в вашем коктейле будет: водка, томатный сок, лимонный сок, вустерширский соус, черный перец, сельдерей.\n"
          ],
          "name": "stdout"
        }
      ]
    }
  ]
}